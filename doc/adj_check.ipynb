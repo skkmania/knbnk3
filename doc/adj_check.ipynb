{
 "cells": [
  {
   "cell_type": "markdown",
   "metadata": {
    "collapsed": true
   },
   "source": [
    "image の部分図を表示する"
   ]
  },
  {
   "cell_type": "heading",
   "metadata": {},
   "level": 1,
   "source": [
    "ページ画像の一部を表示する"
   ]
  },
  {
   "cell_type": "code",
   "execution_count": 2,
   "metadata": {
    "collapsed": true
   },
   "outputs": [],
   "source": [
    "DATA_DIR = 'Z:/knbnk/data'\n",
    "Default_Param = {\n",
    "    \"param\": {\n",
    "        \"arcdir\":      DATA_DIR,\n",
    "        \"topdir\":      DATA_DIR\n",
    "    },\n",
    "    \"book\": {\n",
    "        \"height\":       600,\n",
    "        \"width\":        400,\n",
    "        \"pages_in_koma\": 2,\n",
    "        \"dan\":          1,\n",
    "        \"vorh\":         \"vert\",\n",
    "        \"morc\":         \"mono\",\n",
    "        \"keisen\":       \"no\",\n",
    "        \"waku\":         \"yes\"\n",
    "    },\n",
    "    \"koma\": {\n",
    "        \"scale_size\":   [320.0, 640.0],\n",
    "        \"binarize\":     [\"canny\"],\n",
    "        \"feature\":      [\"hough\"],\n",
    "        \"hough\":        [[1, 2, 100]],\n",
    "        \"canny\":        [[50, 150, 3], [100, 200, 3]],\n",
    "    },\n",
    "    \"page\": {\n",
    "        \"pagedir\":      \"/\".join(['can_50_200_3', 'hgh_1_2_100', 'right']),\n",
    "        \"lr\":           \"right\",\n",
    "        \"mavstd\":       10,\n",
    "        \"pgmgn\":        [0.05, 0.05],\n",
    "        \"ismgn\":        [15, 5],\n",
    "        \"toobig\":       [200, 200],\n",
    "        \"boundingRect\": [16, 32],\n",
    "        \"mode\":         \"EXTERNAL\",\n",
    "        \"method\":       \"NONE\",\n",
    "        \"canny\":        [50, 200, 3]\n",
    "    }\n",
    "}"
   ]
  },
  {
   "cell_type": "code",
   "execution_count": 3,
   "metadata": {
    "collapsed": true
   },
   "outputs": [],
   "source": [
    "import copy\n",
    "import classes.knutil as ku\n",
    "param_dict = copy.deepcopy(Default_Param)\n",
    "spec = {\n",
    "        \"param\": {\n",
    "            \"logfilename\": \"adj_check\",\n",
    "            \"outdir\":      \"/\".join([DATA_DIR, \"1062973\"]),\n",
    "            \"paramfdir\":   \"1062973\",\n",
    "            \"paramfname\":  \"knp.json\",\n",
    "            \"balls\":       [\"1062973\"]\n",
    "        },\n",
    "        \"book\": {\n",
    "            \"bookdir\":      '1062973',\n",
    "            \"bookId\":       \"1062973\"\n",
    "        },\n",
    "        \"koma\": {\n",
    "            \"komadir\":      'k009',\n",
    "            \"komaId\":       9,\n",
    "            \"komaIdStr\":    \"009\",\n",
    "            \"imgfname\":     \"009.jpeg\"\n",
    "        },\n",
    "        \"page\": {\n",
    "            \"imgfname\":     \"009_0.jpeg\",\n",
    "            \"pagedir\":      \"00\"\n",
    "        }\n",
    "    }\n",
    "for k, v in param_dict.items():\n",
    "    v.update(spec[k])\n",
    "ku.check_test_environment(param_dict, '1062973')"
   ]
  },
  {
   "cell_type": "code",
   "execution_count": 4,
   "metadata": {
    "collapsed": true
   },
   "outputs": [],
   "source": [
    "from classes.knparam  import KnParam\n",
    "from classes.knpage import KnPage"
   ]
  },
  {
   "cell_type": "code",
   "execution_count": 5,
   "metadata": {
    "collapsed": true
   },
   "outputs": [],
   "source": [
    "kp = KnParam(param_dict)"
   ]
  },
  {
   "cell_type": "code",
   "execution_count": 6,
   "metadata": {
    "collapsed": true
   },
   "outputs": [],
   "source": [
    "page_obj = KnPage(params=kp)"
   ]
  },
  {
   "cell_type": "code",
   "execution_count": 7,
   "metadata": {
    "collapsed": true
   },
   "outputs": [],
   "source": [
    "page_obj.collect_boxes()"
   ]
  },
  {
   "cell_type": "heading",
   "metadata": {},
   "level": 5,
   "source": [
    "ここまでで準備おわり\n",
    "画像の一部は配列の部分を指定すればよい。\n",
    "ただし、y座標を先に指定する。"
   ]
  },
  {
   "cell_type": "code",
   "execution_count": 8,
   "metadata": {
    "collapsed": true
   },
   "outputs": [],
   "source": [
    "bubun = page_obj.img[80:330, 1030:1130]"
   ]
  },
  {
   "cell_type": "heading",
   "metadata": {},
   "level": 6,
   "source": [
    "これで、bubun は、(x,y) = (80, 1030) を左上の起点とし、幅100、高さ250の部分を指す"
   ]
  },
  {
   "cell_type": "heading",
   "metadata": {},
   "level": 6,
   "source": [
    "画像をjupyter notebook に表示するための準備"
   ]
  },
  {
   "cell_type": "code",
   "execution_count": 9,
   "metadata": {
    "collapsed": true
   },
   "outputs": [],
   "source": [
    "%matplotlib inline\n",
    "from PIL import Image\n",
    "import matplotlib.pyplot as plt\n",
    "import numpy as np"
   ]
  },
  {
   "cell_type": "heading",
   "metadata": {},
   "level": 6,
   "source": [
    "表示のコマンド"
   ]
  },
  {
   "cell_type": "code",
   "execution_count": 10,
   "metadata": {
    "collapsed": false
   },
   "outputs": [
    {
     "data": {
      "text/plain": [
       "<matplotlib.image.AxesImage at 0x17dfb93d710>"
      ]
     },
     "execution_count": 10,
     "metadata": {},
     "output_type": "execute_result"
    },
    {
     "data": {
      "image/png": "[encoded data removed]",
      "text/plain": [
       "<matplotlib.figure.Figure at 0x17df960be48>"
      ]
     },
     "metadata": {},
     "output_type": "display_data"
    }
   ],
   "source": [
    "plt.imshow(np.array(bubun))"
   ]
  },
  {
   "cell_type": "heading",
   "metadata": {},
   "level": 6,
   "source": [
    "これに対応する２値画像を表示すると"
   ]
  },
  {
   "cell_type": "code",
   "execution_count": 11,
   "metadata": {
    "collapsed": true
   },
   "outputs": [],
   "source": [
    "page_obj.getBinarized()\n",
    "bi_bubun = page_obj.binarized[80:330, 1030:1130]"
   ]
  },
  {
   "cell_type": "code",
   "execution_count": 12,
   "metadata": {
    "collapsed": false
   },
   "outputs": [
    {
     "data": {
      "text/plain": [
       "<matplotlib.image.AxesImage at 0x17dfc0305c0>"
      ]
     },
     "execution_count": 12,
     "metadata": {},
     "output_type": "execute_result"
    },
    {
     "data": {
      "image/png": "[encoded data removed]",
      "text/plain": [
       "<matplotlib.figure.Figure at 0x17dfb911fd0>"
      ]
     },
     "metadata": {},
     "output_type": "display_data"
    }
   ],
   "source": [
    "plt.imshow(np.array(bi_bubun))"
   ]
  },
  {
   "cell_type": "heading",
   "metadata": {},
   "level": 6,
   "source": [
    "読み込んだ画像のサイズ\n"
   ]
  },
  {
   "cell_type": "code",
   "execution_count": 13,
   "metadata": {
    "collapsed": true
   },
   "outputs": [],
   "source": [
    "w, h, c = page_obj.img.shape"
   ]
  },
  {
   "cell_type": "code",
   "execution_count": 14,
   "metadata": {
    "collapsed": false
   },
   "outputs": [
    {
     "name": "stdout",
     "output_type": "stream",
     "text": [
      "width : 1685, height : 1164, channel : 3\n"
     ]
    }
   ],
   "source": [
    "print(\"width : {0}, height : {1}, channel : {2}\".format(w, h, c))"
   ]
  },
  {
   "cell_type": "heading",
   "metadata": {},
   "level": 6,
   "source": [
    "右上の、文字切り出しに苦労している部分をとりだす"
   ]
  },
  {
   "cell_type": "code",
   "execution_count": 15,
   "metadata": {
    "collapsed": false
   },
   "outputs": [
    {
     "data": {
      "text/plain": [
       "<matplotlib.image.AxesImage at 0x17dfc092080>"
      ]
     },
     "execution_count": 15,
     "metadata": {},
     "output_type": "execute_result"
    },
    {
     "data": {
      "image/png": "[encoded data removed]",
      "text/plain": [
       "<matplotlib.figure.Figure at 0x17dfc03ee48>"
      ]
     },
     "metadata": {},
     "output_type": "display_data"
    }
   ],
   "source": [
    "kusen = page_obj.img[80:330, 1030:1130]\n",
    "plt.imshow(np.array(kusen))"
   ]
  },
  {
   "cell_type": "heading",
   "metadata": {},
   "level": 6,
   "source": [
    "このkusenのデータ型は"
   ]
  },
  {
   "cell_type": "code",
   "execution_count": 17,
   "metadata": {
    "collapsed": false
   },
   "outputs": [
    {
     "name": "stdout",
     "output_type": "stream",
     "text": [
      "uint8\n",
      "(250, 100, 3)\n"
     ]
    }
   ],
   "source": [
    "print(kusen.dtype)\n",
    "print(kusen.shape)"
   ]
  },
  {
   "cell_type": "heading",
   "metadata": {},
   "level": 6,
   "source": [
    "となっている。つまり、\"CV_8UC3\"で、このままではフィルタにかけられない。"
   ]
  },
  {
   "cell_type": "heading",
   "metadata": {},
   "level": 6,
   "source": [
    "したがって、\"CV_8U\"に変換する。"
   ]
  },
  {
   "cell_type": "code",
   "execution_count": 20,
   "metadata": {
    "collapsed": false
   },
   "outputs": [
    {
     "name": "stdout",
     "output_type": "stream",
     "text": [
      "uint8\n",
      "(250, 100)\n"
     ]
    },
    {
     "data": {
      "text/plain": [
       "<matplotlib.image.AxesImage at 0x17dfc105c50>"
      ]
     },
     "execution_count": 20,
     "metadata": {},
     "output_type": "execute_result"
    },
    {
     "data": {
      "image/png": "[encoded data removed]",
      "text/plain": [
       "<matplotlib.figure.Figure at 0x17dfb99fda0>"
      ]
     },
     "metadata": {},
     "output_type": "display_data"
    }
   ],
   "source": [
    "import  cv2\n",
    "kusen_gray = cv2.cvtColor(kusen, cv2.COLOR_BGR2GRAY)\n",
    "print(kusen_gray.dtype)\n",
    "print(kusen_gray.shape)\n",
    "plt.imshow(kusen_gray)"
   ]
  },
  {
   "cell_type": "code",
   "execution_count": 42,
   "metadata": {
    "collapsed": false
   },
   "outputs": [
    {
     "name": "stdout",
     "output_type": "stream",
     "text": [
      "uint8\n",
      "(250, 100)\n"
     ]
    },
    {
     "data": {
      "image/png": "[encoded data removed]",
      "text/plain": [
       "<matplotlib.figure.Figure at 0x17dfc115f60>"
      ]
     },
     "metadata": {},
     "output_type": "display_data"
    }
   ],
   "source": [
    "ret, kusen_thresh = cv2.threshold(kusen_gray, 127, 255, 0)\n",
    "plt.imshow(kusen_thresh)\n",
    "print(kusen_thresh.dtype)\n",
    "print(kusen_thresh.shape)"
   ]
  },
  {
   "cell_type": "code",
   "execution_count": 65,
   "metadata": {
    "collapsed": false
   },
   "outputs": [
    {
     "name": "stdout",
     "output_type": "stream",
     "text": [
      "1\n",
      "uint8\n",
      "(250, 100)\n"
     ]
    },
    {
     "data": {
      "image/png": "[encoded data removed]",
      "text/plain": [
       "<matplotlib.figure.Figure at 0x17dfd77ba58>"
      ]
     },
     "metadata": {},
     "output_type": "display_data"
    }
   ],
   "source": [
    "print(cv2.RETR_LIST)\n",
    "im2, contours, hierarchy = cv2.findContours(kusen_thresh, cv2.RETR_LIST, 2)\n",
    "plt.imshow(im2)\n",
    "print(im2.dtype)\n",
    "print(im2.shape)"
   ]
  },
  {
   "cell_type": "code",
   "execution_count": 37,
   "metadata": {
    "collapsed": false
   },
   "outputs": [
    {
     "name": "stdout",
     "output_type": "stream",
     "text": [
      "1\n",
      "[[ 1 -1 -1 -1]\n",
      " [ 2  0 -1 -1]\n",
      " [ 3  1 -1 -1]\n",
      " [ 4  2 -1 -1]\n",
      " [ 5  3 -1 -1]\n",
      " [ 6  4 -1 -1]\n",
      " [ 7  5 -1 -1]\n",
      " [ 8  6 -1 -1]\n",
      " [-1  7 -1 -1]]\n"
     ]
    }
   ],
   "source": [
    "print(len(hierarchy))\n",
    "print(hierarchy[0])"
   ]
  },
  {
   "cell_type": "code",
   "execution_count": 66,
   "metadata": {
    "collapsed": false
   },
   "outputs": [
    {
     "name": "stdout",
     "output_type": "stream",
     "text": [
      "10\n"
     ]
    }
   ],
   "source": [
    "print(len(contours))"
   ]
  },
  {
   "cell_type": "code",
   "execution_count": 67,
   "metadata": {
    "collapsed": false
   },
   "outputs": [
    {
     "data": {
      "image/png": "[encoded data removed]",
      "text/plain": [
       "<matplotlib.figure.Figure at 0x17dfd45e550>"
      ]
     },
     "metadata": {},
     "output_type": "display_data"
    }
   ],
   "source": [
    "imgs = []\n",
    "for i in range(0, len(contours)):\n",
    "    imgs.append(im2.copy())\n",
    "    cv2.drawContours(imgs[i], contours, i, (255, 255, 255), 3)\n",
    "    plt.subplot(1,len(contours),i+1)\n",
    "    plt.imshow(imgs[i])"
   ]
  },
  {
   "cell_type": "heading",
   "metadata": {},
   "level": 6,
   "source": [
    "これに対応するバイナリは"
   ]
  },
  {
   "cell_type": "code",
   "execution_count": 51,
   "metadata": {
    "collapsed": false
   },
   "outputs": [
    {
     "data": {
      "text/plain": [
       "<matplotlib.image.AxesImage at 0x1d411a15160>"
      ]
     },
     "execution_count": 51,
     "metadata": {},
     "output_type": "execute_result"
    },
    {
     "data": {
      "image/png": "[encoded data removed]",
      "text/plain": [
       "<matplotlib.figure.Figure at 0x1d41313bb70>"
      ]
     },
     "metadata": {},
     "output_type": "display_data"
    }
   ],
   "source": [
    "bi_kusen = page_obj.binarized[80:330, 1030:1130]\n",
    "plt.imshow(np.array(bi_kusen))"
   ]
  },
  {
   "cell_type": "heading",
   "metadata": {},
   "level": 6,
   "source": [
    "contour をとってみる"
   ]
  },
  {
   "cell_type": "code",
   "execution_count": 56,
   "metadata": {
    "collapsed": true
   },
   "outputs": [],
   "source": [
    "import cv2"
   ]
  },
  {
   "cell_type": "code",
   "execution_count": 58,
   "metadata": {
    "collapsed": true
   },
   "outputs": [],
   "source": [
    "contours = cv2.findContours(bi_kusen, 1, 2)"
   ]
  },
  {
   "cell_type": "code",
   "execution_count": 67,
   "metadata": {
    "collapsed": false
   },
   "outputs": [
    {
     "name": "stdout",
     "output_type": "stream",
     "text": [
      "250\n"
     ]
    }
   ],
   "source": [
    "cnt = contours[0]\n",
    "print(len(cnt))"
   ]
  },
  {
   "cell_type": "code",
   "execution_count": 68,
   "metadata": {
    "collapsed": true
   },
   "outputs": [],
   "source": [
    "M = cv2.moments(cnt)"
   ]
  },
  {
   "cell_type": "code",
   "execution_count": 69,
   "metadata": {
    "collapsed": false
   },
   "outputs": [
    {
     "name": "stdout",
     "output_type": "stream",
     "text": [
      "{'m02': 1206387650.0, 'mu12': 238332360.22162342, 'm01': 8174324.0, 'mu21': -3235556.78784132, 'm03': 197268869294.0, 'm11': 333807284.0, 'm21': 14012176168.0, 'nu11': 0.001234765177673678, 'nu02': 0.04220636881667686, 'm10': 2612589.0, 'm20': 108100729.0, 'nu12': 0.00022131790676597717, 'm12': 50044707154.0, 'nu21': -3.004571661362336e-06, 'nu03': 0.0006429229889167123, 'mu30': 3832166.226869583, 'mu20': 3079860.8615697026, 'mu11': 5215759.2998631, 'mu02': 178283502.52294862, 'nu30': 3.558589387196024e-06, 'm30': 4596874443.0, 'mu03': 692349551.0523071, 'm00': 64993.0, 'nu20': 0.0007291181830507663}\n"
     ]
    }
   ],
   "source": [
    "print(M)"
   ]
  },
  {
   "cell_type": "code",
   "execution_count": 70,
   "metadata": {
    "collapsed": false
   },
   "outputs": [
    {
     "name": "stdout",
     "output_type": "stream",
     "text": [
      "64993.0\n"
     ]
    }
   ],
   "source": [
    "print(M['m00'])"
   ]
  },
  {
   "cell_type": "code",
   "execution_count": 72,
   "metadata": {
    "collapsed": false
   },
   "outputs": [
    {
     "ename": "error",
     "evalue": "D:\\Build\\OpenCV\\opencv-3.1.0\\modules\\imgproc\\src\\shapedescr.cpp:314: error: (-215) npoints >= 0 && (depth == CV_32F || depth == CV_32S) in function cv::contourArea\n",
     "traceback": [
      "\u001b[1;31m---------------------------------------------------------------------------\u001b[0m",
      "\u001b[1;31merror\u001b[0m                                     Traceback (most recent call last)",
      "\u001b[1;32m<ipython-input-72-27ccc4246588>\u001b[0m in \u001b[0;36m<module>\u001b[1;34m()\u001b[0m\n\u001b[1;32m----> 1\u001b[1;33m \u001b[0marea\u001b[0m \u001b[1;33m=\u001b[0m \u001b[0mcv2\u001b[0m\u001b[1;33m.\u001b[0m\u001b[0mcontourArea\u001b[0m\u001b[1;33m(\u001b[0m\u001b[0mcnt\u001b[0m\u001b[1;33m)\u001b[0m\u001b[1;33m\u001b[0m\u001b[0m\n\u001b[0m\u001b[0;32m      2\u001b[0m \u001b[0mprint\u001b[0m\u001b[1;33m(\u001b[0m\u001b[0marea\u001b[0m\u001b[1;33m)\u001b[0m\u001b[1;33m\u001b[0m\u001b[0m\n",
      "\u001b[1;31merror\u001b[0m: D:\\Build\\OpenCV\\opencv-3.1.0\\modules\\imgproc\\src\\shapedescr.cpp:314: error: (-215) npoints >= 0 && (depth == CV_32F || depth == CV_32S) in function cv::contourArea\n"
     ],
     "output_type": "error"
    }
   ],
   "source": [
    "area = cv2.contourArea(cnt)\n",
    "print(area)"
   ]
  },
  {
   "cell_type": "code",
   "execution_count": 74,
   "metadata": {
    "collapsed": false
   },
   "outputs": [
    {
     "name": "stdout",
     "output_type": "stream",
     "text": [
      "100\n"
     ]
    }
   ],
   "source": [
    "print(len(cnt[0]))"
   ]
  },
  {
   "cell_type": "code",
   "execution_count": null,
   "metadata": {
    "collapsed": true
   },
   "outputs": [],
   "source": [
    ""
   ]
  }
 ],
 "metadata": {
  "kernelspec": {
   "display_name": "Python 3",
   "language": "python",
   "name": "python3"
  },
  "language_info": {
   "codemirror_mode": {
    "name": "ipython",
    "version": 3.0
   },
   "file_extension": ".py",
   "mimetype": "text/x-python",
   "name": "python",
   "nbconvert_exporter": "python",
   "pygments_lexer": "ipython3",
   "version": "3.5.1"
  }
 },
 "nbformat": 4,
 "nbformat_minor": 0
}