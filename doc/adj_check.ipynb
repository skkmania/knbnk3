{
 "cells": [
  {
   "cell_type": "markdown",
   "metadata": {
    "collapsed": true
   },
   "source": [
    "image の部分図を表示する"
   ]
  },
  {
   "cell_type": "heading",
   "metadata": {},
   "level": 1,
   "source": [
    "ページ画像の一部を表示する"
   ]
  },
  {
   "cell_type": "code",
   "execution_count": 5,
   "metadata": {},
   "outputs": [],
   "source": [
    "DATA_DIR = 'Z:/knbnk/data'\n",
    "Default_Param = {\n",
    "    \"param\": {\n",
    "        \"arcdir\":      DATA_DIR,\n",
    "        \"topdir\":      DATA_DIR\n",
    "    },\n",
    "    \"book\": {\n",
    "        \"height\":       600,\n",
    "        \"width\":        400,\n",
    "        \"pages_in_koma\": 2,\n",
    "        \"dan\":          1,\n",
    "        \"vorh\":         \"vert\",\n",
    "        \"morc\":         \"mono\",\n",
    "        \"keisen\":       \"no\",\n",
    "        \"waku\":         \"yes\"\n",
    "    },\n",
    "    \"koma\": {\n",
    "        \"scale_size\":   [320.0, 640.0],\n",
    "        \"binarize\":     [\"canny\"],\n",
    "        \"feature\":      [\"hough\"],\n",
    "        \"hough\":        [[1, 2, 100]],\n",
    "        \"canny\":        [[50, 150, 3], [100, 200, 3]],\n",
    "    },\n",
    "    \"page\": {\n",
    "        \"pagedir\":      \"/\".join(['can_50_200_3', 'hgh_1_2_100', 'right']),\n",
    "        \"lr\":           \"right\",\n",
    "        \"mavstd\":       10,\n",
    "        \"pgmgn\":        [0.05, 0.05],\n",
    "        \"ismgn\":        [15, 5],\n",
    "        \"toobig\":       [200, 200],\n",
    "        \"boundingRect\": [16, 32],\n",
    "        \"mode\":         \"EXTERNAL\",\n",
    "        \"method\":       \"NONE\",\n",
    "        \"canny\":        [50, 200, 3]\n",
    "    }\n",
    "}"
   ]
  },
  {
   "cell_type": "code",
   "execution_count": 6,
   "metadata": {},
   "outputs": [],
   "source": [
    "import copy\n",
    "import classes.knutil as ku\n",
    "param_dict = copy.deepcopy(Default_Param)\n",
    "spec = {\n",
    "        \"param\": {\n",
    "            \"logfilename\": \"adj_check\",\n",
    "            \"outdir\":      \"/\".join([DATA_DIR, \"1062973\"]),\n",
    "            \"paramfdir\":   \"1062973\",\n",
    "            \"paramfname\":  \"knp.json\",\n",
    "            \"balls\":       [\"1062973\"]\n",
    "        },\n",
    "        \"book\": {\n",
    "            \"bookdir\":      '1062973',\n",
    "            \"bookId\":       \"1062973\"\n",
    "        },\n",
    "        \"koma\": {\n",
    "            \"komadir\":      'k009',\n",
    "            \"komaId\":       9,\n",
    "            \"komaIdStr\":    \"009\",\n",
    "            \"imgfname\":     \"009.jpeg\"\n",
    "        },\n",
    "        \"page\": {\n",
    "            \"imgfname\":     \"009_0.jpeg\",\n",
    "            \"pagedir\":      \"00\"\n",
    "        }\n",
    "    }\n",
    "for k, v in param_dict.items():\n",
    "    v.update(spec[k])\n",
    "ku.check_test_environment(param_dict, '1062973')"
   ]
  },
  {
   "cell_type": "code",
   "execution_count": 7,
   "metadata": {},
   "outputs": [],
   "source": [
    "from classes.knparam  import KnParam\n",
    "from classes.knpage import KnPage"
   ]
  },
  {
   "cell_type": "code",
   "execution_count": 8,
   "metadata": {},
   "outputs": [],
   "source": [
    "kp = KnParam(param_dict)"
   ]
  },
  {
   "cell_type": "code",
   "execution_count": 9,
   "metadata": {},
   "outputs": [],
   "source": [
    "page_obj = KnPage(params=kp)"
   ]
  },
  {
   "cell_type": "code",
   "execution_count": 10,
   "metadata": {},
   "outputs": [],
   "source": [
    "page_obj.collect_boxes()"
   ]
  },
  {
   "cell_type": "heading",
   "metadata": {},
   "level": 5,
   "source": [
    "ここまでで準備おわり\n",
    "画像の一部は配列の部分を指定すればよい。\n",
    "ただし、y座標を先に指定する。"
   ]
  },
  {
   "cell_type": "code",
   "execution_count": 12,
   "metadata": {},
   "outputs": [],
   "source": [
    "bubun = page_obj.img[500:600, 800:850]"
   ]
  },
  {
   "cell_type": "heading",
   "metadata": {},
   "level": 6,
   "source": [
    "これで、bubun は、(x,y) = (800, 500) を左上の起点とし、幅５０、高さ１００の部分を指す"
   ]
  },
  {
   "cell_type": "heading",
   "metadata": {},
   "level": 6,
   "source": [
    "画像をjupyter notebook に表示するための準備"
   ]
  },
  {
   "cell_type": "code",
   "execution_count": 13,
   "metadata": {},
   "outputs": [],
   "source": [
    "%matplotlib inline\n",
    "from PIL import Image\n",
    "import matplotlib.pyplot as plt\n",
    "import numpy as np"
   ]
  },
  {
   "cell_type": "heading",
   "metadata": {},
   "level": 6,
   "source": [
    "表示のコマンド"
   ]
  },
  {
   "cell_type": "code",
   "execution_count": 19,
   "metadata": {},
   "outputs": [
    {
     "data": {
      "text/plain": [
       "<matplotlib.image.AxesImage at 0x172afebf0f0>"
      ]
     },
     "execution_count": 19,
     "metadata": {},
     "output_type": "execute_result"
    },
    {
     "data": {
      "image/png": "[encoded data removed]",
      "text/plain": [
       "<matplotlib.figure.Figure at 0x172b00749b0>"
      ]
     },
     "metadata": {},
     "output_type": "display_data"
    }
   ],
   "source": [
    "plt.imshow(np.array(bubun))"
   ]
  },
  {
   "cell_type": "heading",
   "metadata": {},
   "level": 6,
   "source": [
    "これに対応する２値画像を表示すると"
   ]
  },
  {
   "cell_type": "code",
   "execution_count": 24,
   "metadata": {},
   "outputs": [],
   "source": [
    "page_obj.getBinarized()\n",
    "bi_bubun = page_obj.binarized[500:600, 800:850]"
   ]
  },
  {
   "cell_type": "code",
   "execution_count": 25,
   "metadata": {},
   "outputs": [
    {
     "data": {
      "text/plain": [
       "<matplotlib.image.AxesImage at 0x172b0e585f8>"
      ]
     },
     "execution_count": 25,
     "metadata": {},
     "output_type": "execute_result"
    },
    {
     "data": {
      "image/png": "[encoded data removed]",
      "text/plain": [
       "<matplotlib.figure.Figure at 0x172b0de8358>"
      ]
     },
     "metadata": {},
     "output_type": "display_data"
    }
   ],
   "source": [
    "plt.imshow(np.array(bi_bubun))"
   ]
  },
  {
   "cell_type": "code",
   "execution_count": null,
   "metadata": {},
   "outputs": [],
   "source": [
    ""
   ]
  },
  {
   "cell_type": "code",
   "execution_count": null,
   "metadata": {},
   "outputs": [],
   "source": [
    ""
   ]
  }
 ],
 "metadata": {
  "kernelspec": {
   "display_name": "Python 2",
   "language": "python",
   "name": "python2"
  },
  "language_info": {
   "codemirror_mode": {
    "name": "ipython",
    "version": 2.0
   },
   "file_extension": ".py",
   "mimetype": "text/x-python",
   "name": "python",
   "nbconvert_exporter": "python",
   "pygments_lexer": "ipython2",
   "version": "2.7.6"
  }
 },
 "nbformat": 4,
 "nbformat_minor": 0
}